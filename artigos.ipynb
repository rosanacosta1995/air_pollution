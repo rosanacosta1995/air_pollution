{
  "cells": [
    {
      "cell_type": "raw",
      "metadata": {},
      "source": [
        "---\n",
        "title: \"Agregando conhecimento científico\"\n",
        "format: html\n",
        "editor: visual\n",
        "---"
      ],
      "id": "d0a182ff"
    },
    {
      "cell_type": "markdown",
      "metadata": {},
      "source": [
        "```{css, echo = FALSE}\n",
        "\n",
        ".justify {\n",
        " \n",
        "  text-align:\n",
        "justify !important\n",
        "}\n",
        "\n",
        "```\n",
        "\n",
        "\n",
        " Artigos\n",
        " \n",
        "1. Estudos de séries temporais de poluição atmosférica\n",
        "por queimadas e saúde humana.\n",
        "\n",
        ":::{.justify}\n",
        "Resumo: Queimadas e incêndios florestais de grandes proporções têm sido observados em diversas regiões do planeta. A exposição a altos níveis de poluentes atmosféricos emitidos por queimadas podem causar uma variedade de danos à\n",
        "saúde humana. Neste artigo, sumarizamos a literatura existente sobre estimação de efeitos agudos da poluição atmosférica por queimadas na saúde humana nas regiões em que estas estão concentradas em maior número no planeta, utilizandose abordagem de séries temporais. Também se buscou identificar lacunas de conhecimento. O estudo consistiu de uma revisão narrativa, em que as\n",
        "características dos estudos selecionados foram agrupadas pelas regiões do planeta em que há maior incidência de queimadas: Amazônia, Estados Unidos, Austrália e Ásia. Os resultados apontaram concentração de estudos na Austrália, poucos estudos realizados na Amazônia e grande heterogeneidade nos resultados sobre efeitos significativos na saúde humana.\n",
        "Palavras-chave Queimadas, Saúde humana, Séries temporais\n",
        ":::"
      ],
      "id": "266dfaec"
    }
  ],
  "metadata": {
    "kernelspec": {
      "display_name": "Python 3",
      "language": "python",
      "name": "python3"
    }
  },
  "nbformat": 4,
  "nbformat_minor": 5
}