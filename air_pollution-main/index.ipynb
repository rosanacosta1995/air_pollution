{
  "cells": [
    {
      "cell_type": "raw",
      "metadata": {},
      "source": [
        "---\n",
        "title: \"Air Pollution\"\n",
        "format: html\n",
        "editor: visual\n",
        "---"
      ],
      "id": "23b20e5b"
    },
    {
      "cell_type": "markdown",
      "metadata": {},
      "source": [
        "```\n",
        "{css, encho=FALSE} \n",
        ".justify{text-align: justify !important}\n",
        "```\n",
        "\n",
        " ![](poluicao-atmosferica.png) \n",
        " \n",
        ":::(.justify) \n",
        " Este é um projeto piloto sobre poluição do ar. Navegue pelas páginas para obter mais informações sobre o assunto. \n",
        ":::\n",
        " \n",
        "[Dados](poluentes.html)\n",
        "\n",
        "[Análise](resultados.html)"
      ],
      "id": "4433c5c2"
    }
  ],
  "metadata": {
    "kernelspec": {
      "display_name": "Python 3",
      "language": "python",
      "name": "python3"
    }
  },
  "nbformat": 4,
  "nbformat_minor": 5
}